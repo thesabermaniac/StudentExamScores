{
  "nbformat": 4,
  "nbformat_minor": 0,
  "metadata": {
    "colab": {
      "name": "StudentExamPerformance.ipynb",
      "provenance": [],
      "collapsed_sections": [
        "9CLMZTmolFpb"
      ]
    },
    "kernelspec": {
      "name": "python3",
      "display_name": "Python 3"
    },
    "language_info": {
      "name": "python"
    }
  },
  "cells": [
    {
      "cell_type": "markdown",
      "metadata": {
        "id": "xdy9ctZ6dfQb"
      },
      "source": [
        "# Student Exam Performance\n",
        "\n",
        "### **Goal**\n",
        "\n",
        "The goal of this analysis is to determine the correlation between a student's test scores and their socio-economic status. The factors we're going to be looking at are:\n",
        " \n",
        " 1. **Gender** *Categorical/Nominal* - Gender of student (M/F)\n",
        " 2. **Race/ethnicity** *Categorical/Nominal* - Race and/or ethnicity of the student. This category is labeled Group A, Group B, etc..\n",
        " 3. **Parent's level of education** *Categorical/Ordinal* - The level of formal education acheived by the student's parents (high school, bachelor's, master's, etc..)\n",
        " 4. **Lunch plan** *Categorical/Nominal* - The lunch plan the student was on (standard or free/reduced).\n",
        " 5. **Completion of test prep course** *Categorical/Ordinal* - Whether or not the student completed the test prep course\n",
        "\n",
        "We will analyze the correlation between that quantitative data and the following test scores:\n",
        "\n",
        " 1. **Math Score** *Numeric/Discrete* - Result of student's math exam.\n",
        " 2. **Reading Score** *Numeric/Discrete* - Result of student's reading exam.\n",
        " 3. **Writing Score** *Numeric/Discrete* - Result of student's writing exam.\n",
        "\n",
        " [Data Source](https://www.kaggle.com/spscientist/students-performance-in-exams)"
      ]
    },
    {
      "cell_type": "markdown",
      "metadata": {
        "id": "9CLMZTmolFpb"
      },
      "source": [
        "# Import the data and get an idea of what it contains\n",
        "\n",
        "Explore the various metadata variables to get a better picture of the kind of data we're dealing with and ensure the data is complete and makes sense."
      ]
    },
    {
      "cell_type": "code",
      "metadata": {
        "colab": {
          "base_uri": "https://localhost:8080/",
          "height": 212
        },
        "id": "xdod9BMRc8pf",
        "outputId": "5ba2d615-be04-41eb-8d72-986c62c3f202"
      },
      "source": [
        "import pandas as pd\n",
        "import numpy as np\n",
        "import matplotlib.pyplot as plt\n",
        "import seaborn as sns\n",
        "\n",
        "\n",
        "#import data\n",
        "student_performance = pd.read_csv(\"https://raw.githubusercontent.com/thesabermaniac/StudentExamScores/main/StudentsPerformance.csv\")\n",
        "\n",
        "student_performance_copy = student_performance.copy()\n",
        "\n",
        "#get shape of data\n",
        "print(\"shape: \" + str(student_performance.shape))\n",
        "\n",
        "#show snapshot of data\n",
        "student_performance.head()"
      ],
      "execution_count": 1,
      "outputs": [
        {
          "output_type": "stream",
          "text": [
            "shape: (1000, 8)\n"
          ],
          "name": "stdout"
        },
        {
          "output_type": "execute_result",
          "data": {
            "text/html": [
              "<div>\n",
              "<style scoped>\n",
              "    .dataframe tbody tr th:only-of-type {\n",
              "        vertical-align: middle;\n",
              "    }\n",
              "\n",
              "    .dataframe tbody tr th {\n",
              "        vertical-align: top;\n",
              "    }\n",
              "\n",
              "    .dataframe thead th {\n",
              "        text-align: right;\n",
              "    }\n",
              "</style>\n",
              "<table border=\"1\" class=\"dataframe\">\n",
              "  <thead>\n",
              "    <tr style=\"text-align: right;\">\n",
              "      <th></th>\n",
              "      <th>gender</th>\n",
              "      <th>race/ethnicity</th>\n",
              "      <th>parental level of education</th>\n",
              "      <th>lunch</th>\n",
              "      <th>test preparation course</th>\n",
              "      <th>math score</th>\n",
              "      <th>reading score</th>\n",
              "      <th>writing score</th>\n",
              "    </tr>\n",
              "  </thead>\n",
              "  <tbody>\n",
              "    <tr>\n",
              "      <th>0</th>\n",
              "      <td>female</td>\n",
              "      <td>group B</td>\n",
              "      <td>bachelor's degree</td>\n",
              "      <td>standard</td>\n",
              "      <td>none</td>\n",
              "      <td>72</td>\n",
              "      <td>72</td>\n",
              "      <td>74</td>\n",
              "    </tr>\n",
              "    <tr>\n",
              "      <th>1</th>\n",
              "      <td>female</td>\n",
              "      <td>group C</td>\n",
              "      <td>some college</td>\n",
              "      <td>standard</td>\n",
              "      <td>completed</td>\n",
              "      <td>69</td>\n",
              "      <td>90</td>\n",
              "      <td>88</td>\n",
              "    </tr>\n",
              "    <tr>\n",
              "      <th>2</th>\n",
              "      <td>female</td>\n",
              "      <td>group B</td>\n",
              "      <td>master's degree</td>\n",
              "      <td>standard</td>\n",
              "      <td>none</td>\n",
              "      <td>90</td>\n",
              "      <td>95</td>\n",
              "      <td>93</td>\n",
              "    </tr>\n",
              "    <tr>\n",
              "      <th>3</th>\n",
              "      <td>male</td>\n",
              "      <td>group A</td>\n",
              "      <td>associate's degree</td>\n",
              "      <td>free/reduced</td>\n",
              "      <td>none</td>\n",
              "      <td>47</td>\n",
              "      <td>57</td>\n",
              "      <td>44</td>\n",
              "    </tr>\n",
              "    <tr>\n",
              "      <th>4</th>\n",
              "      <td>male</td>\n",
              "      <td>group C</td>\n",
              "      <td>some college</td>\n",
              "      <td>standard</td>\n",
              "      <td>none</td>\n",
              "      <td>76</td>\n",
              "      <td>78</td>\n",
              "      <td>75</td>\n",
              "    </tr>\n",
              "  </tbody>\n",
              "</table>\n",
              "</div>"
            ],
            "text/plain": [
              "   gender race/ethnicity  ... reading score writing score\n",
              "0  female        group B  ...            72            74\n",
              "1  female        group C  ...            90            88\n",
              "2  female        group B  ...            95            93\n",
              "3    male        group A  ...            57            44\n",
              "4    male        group C  ...            78            75\n",
              "\n",
              "[5 rows x 8 columns]"
            ]
          },
          "metadata": {
            "tags": []
          },
          "execution_count": 1
        }
      ]
    },
    {
      "cell_type": "markdown",
      "metadata": {
        "id": "j_j4Obyulers"
      },
      "source": [
        "### Make sure there's no missing/corrupted data"
      ]
    },
    {
      "cell_type": "code",
      "metadata": {
        "colab": {
          "base_uri": "https://localhost:8080/"
        },
        "id": "NNATeHbpkTRu",
        "outputId": "576ce608-4140-49c6-d372-176cbae5e08b"
      },
      "source": [
        "# check for null values\n",
        "student_performance.isna().sum()"
      ],
      "execution_count": 2,
      "outputs": [
        {
          "output_type": "execute_result",
          "data": {
            "text/plain": [
              "gender                         0\n",
              "race/ethnicity                 0\n",
              "parental level of education    0\n",
              "lunch                          0\n",
              "test preparation course        0\n",
              "math score                     0\n",
              "reading score                  0\n",
              "writing score                  0\n",
              "dtype: int64"
            ]
          },
          "metadata": {
            "tags": []
          },
          "execution_count": 2
        }
      ]
    },
    {
      "cell_type": "code",
      "metadata": {
        "colab": {
          "base_uri": "https://localhost:8080/"
        },
        "id": "LwRfg0_7kbAx",
        "outputId": "dee3d654-c059-45ec-8eee-35788e8bec05"
      },
      "source": [
        "# check for unique values\n",
        "student_performance.nunique()"
      ],
      "execution_count": 3,
      "outputs": [
        {
          "output_type": "execute_result",
          "data": {
            "text/plain": [
              "gender                          2\n",
              "race/ethnicity                  5\n",
              "parental level of education     6\n",
              "lunch                           2\n",
              "test preparation course         2\n",
              "math score                     81\n",
              "reading score                  72\n",
              "writing score                  77\n",
              "dtype: int64"
            ]
          },
          "metadata": {
            "tags": []
          },
          "execution_count": 3
        }
      ]
    },
    {
      "cell_type": "code",
      "metadata": {
        "colab": {
          "base_uri": "https://localhost:8080/"
        },
        "id": "Xz7KqB2pkmrx",
        "outputId": "af2c0e9b-32f3-408d-d38f-8d7cf51e4740"
      },
      "source": [
        "# check data types\n",
        "student_performance.dtypes"
      ],
      "execution_count": 4,
      "outputs": [
        {
          "output_type": "execute_result",
          "data": {
            "text/plain": [
              "gender                         object\n",
              "race/ethnicity                 object\n",
              "parental level of education    object\n",
              "lunch                          object\n",
              "test preparation course        object\n",
              "math score                      int64\n",
              "reading score                   int64\n",
              "writing score                   int64\n",
              "dtype: object"
            ]
          },
          "metadata": {
            "tags": []
          },
          "execution_count": 4
        }
      ]
    },
    {
      "cell_type": "markdown",
      "metadata": {
        "id": "UG6uwMwXfjsR"
      },
      "source": [
        "# Amend the data\n",
        "\n",
        "Add columns to the data to make it usable for a linear regression"
      ]
    },
    {
      "cell_type": "code",
      "metadata": {
        "colab": {
          "base_uri": "https://localhost:8080/",
          "height": 195
        },
        "id": "o-uAvXJFVDo4",
        "outputId": "d3854d39-fbf9-46c1-c254-f82086ffb1c7"
      },
      "source": [
        "# add column for mean test scores\n",
        "\n",
        "student_performance['mean_test_scores'] = student_performance[['math score', 'reading score', 'writing score']].mean(axis=1)\n",
        "\n",
        "student_performance.head()"
      ],
      "execution_count": 5,
      "outputs": [
        {
          "output_type": "execute_result",
          "data": {
            "text/html": [
              "<div>\n",
              "<style scoped>\n",
              "    .dataframe tbody tr th:only-of-type {\n",
              "        vertical-align: middle;\n",
              "    }\n",
              "\n",
              "    .dataframe tbody tr th {\n",
              "        vertical-align: top;\n",
              "    }\n",
              "\n",
              "    .dataframe thead th {\n",
              "        text-align: right;\n",
              "    }\n",
              "</style>\n",
              "<table border=\"1\" class=\"dataframe\">\n",
              "  <thead>\n",
              "    <tr style=\"text-align: right;\">\n",
              "      <th></th>\n",
              "      <th>gender</th>\n",
              "      <th>race/ethnicity</th>\n",
              "      <th>parental level of education</th>\n",
              "      <th>lunch</th>\n",
              "      <th>test preparation course</th>\n",
              "      <th>math score</th>\n",
              "      <th>reading score</th>\n",
              "      <th>writing score</th>\n",
              "      <th>mean_test_scores</th>\n",
              "    </tr>\n",
              "  </thead>\n",
              "  <tbody>\n",
              "    <tr>\n",
              "      <th>0</th>\n",
              "      <td>female</td>\n",
              "      <td>group B</td>\n",
              "      <td>bachelor's degree</td>\n",
              "      <td>standard</td>\n",
              "      <td>none</td>\n",
              "      <td>72</td>\n",
              "      <td>72</td>\n",
              "      <td>74</td>\n",
              "      <td>72.666667</td>\n",
              "    </tr>\n",
              "    <tr>\n",
              "      <th>1</th>\n",
              "      <td>female</td>\n",
              "      <td>group C</td>\n",
              "      <td>some college</td>\n",
              "      <td>standard</td>\n",
              "      <td>completed</td>\n",
              "      <td>69</td>\n",
              "      <td>90</td>\n",
              "      <td>88</td>\n",
              "      <td>82.333333</td>\n",
              "    </tr>\n",
              "    <tr>\n",
              "      <th>2</th>\n",
              "      <td>female</td>\n",
              "      <td>group B</td>\n",
              "      <td>master's degree</td>\n",
              "      <td>standard</td>\n",
              "      <td>none</td>\n",
              "      <td>90</td>\n",
              "      <td>95</td>\n",
              "      <td>93</td>\n",
              "      <td>92.666667</td>\n",
              "    </tr>\n",
              "    <tr>\n",
              "      <th>3</th>\n",
              "      <td>male</td>\n",
              "      <td>group A</td>\n",
              "      <td>associate's degree</td>\n",
              "      <td>free/reduced</td>\n",
              "      <td>none</td>\n",
              "      <td>47</td>\n",
              "      <td>57</td>\n",
              "      <td>44</td>\n",
              "      <td>49.333333</td>\n",
              "    </tr>\n",
              "    <tr>\n",
              "      <th>4</th>\n",
              "      <td>male</td>\n",
              "      <td>group C</td>\n",
              "      <td>some college</td>\n",
              "      <td>standard</td>\n",
              "      <td>none</td>\n",
              "      <td>76</td>\n",
              "      <td>78</td>\n",
              "      <td>75</td>\n",
              "      <td>76.333333</td>\n",
              "    </tr>\n",
              "  </tbody>\n",
              "</table>\n",
              "</div>"
            ],
            "text/plain": [
              "   gender race/ethnicity  ... writing score mean_test_scores\n",
              "0  female        group B  ...            74        72.666667\n",
              "1  female        group C  ...            88        82.333333\n",
              "2  female        group B  ...            93        92.666667\n",
              "3    male        group A  ...            44        49.333333\n",
              "4    male        group C  ...            75        76.333333\n",
              "\n",
              "[5 rows x 9 columns]"
            ]
          },
          "metadata": {
            "tags": []
          },
          "execution_count": 5
        }
      ]
    },
    {
      "cell_type": "markdown",
      "metadata": {
        "id": "cSXBAsS3fvBK"
      },
      "source": [
        "### Convert strings to categories\n",
        "\n",
        "Now we convert the categorical data from strings to panda's Categorical data type so we can create a numerical representation of the data that we can use in our regression"
      ]
    },
    {
      "cell_type": "code",
      "metadata": {
        "colab": {
          "base_uri": "https://localhost:8080/"
        },
        "id": "zm2FzhEK1URk",
        "outputId": "35aebf31-5a62-44b2-fe59-536c5bc23786"
      },
      "source": [
        "# convert categorical data from string to category dtype\n",
        "student_performance['gender'] = pd.Categorical(student_performance['gender'])\n",
        "student_performance['race/ethnicity'] = pd.Categorical(student_performance['race/ethnicity'])\n",
        "student_performance['parental level of education'] = pd.Categorical(student_performance['parental level of education'])\n",
        "student_performance['lunch'] = pd.Categorical(student_performance['lunch'])\n",
        "student_performance['test preparation course'] = pd.Categorical(student_performance['test preparation course'])\n",
        "\n",
        "# reorder education level and test prep categories to reflect ordinal data\n",
        "student_performance['parental level of education'].cat.reorder_categories(['some high school', 'high school', 'some college', 'associate\\'s degree', 'bachelor\\'s degree', 'master\\'s degree'], inplace=True)\n",
        "student_performance['test preparation course'].cat.reorder_categories(['none', 'completed'], inplace=True)\n",
        "\n",
        "student_performance.dtypes\n"
      ],
      "execution_count": 6,
      "outputs": [
        {
          "output_type": "execute_result",
          "data": {
            "text/plain": [
              "gender                         category\n",
              "race/ethnicity                 category\n",
              "parental level of education    category\n",
              "lunch                          category\n",
              "test preparation course        category\n",
              "math score                        int64\n",
              "reading score                     int64\n",
              "writing score                     int64\n",
              "mean_test_scores                float64\n",
              "dtype: object"
            ]
          },
          "metadata": {
            "tags": []
          },
          "execution_count": 6
        }
      ]
    },
    {
      "cell_type": "code",
      "metadata": {
        "colab": {
          "base_uri": "https://localhost:8080/",
          "height": 360
        },
        "id": "1rFYG4WD2Q8M",
        "outputId": "692e200b-cb4e-449b-e5a8-f8af65b89dbd"
      },
      "source": [
        "# add numeric representation of categorical data\n",
        "\n",
        "# convert categorical columns to numeric\n",
        "student_performance['genderInt'] = student_performance['gender'].cat.codes\n",
        "student_performance['lunchInt'] = student_performance['lunch'].cat.codes\n",
        "student_performance['prepInt'] = student_performance['test preparation course'].cat.codes\n",
        "student_performance['educationInt'] = student_performance['parental level of education'].cat.codes\n",
        "student_performance['raceInt'] = student_performance['race/ethnicity'].cat.codes\n",
        "\n",
        "student_performance.head(10)"
      ],
      "execution_count": 7,
      "outputs": [
        {
          "output_type": "execute_result",
          "data": {
            "text/html": [
              "<div>\n",
              "<style scoped>\n",
              "    .dataframe tbody tr th:only-of-type {\n",
              "        vertical-align: middle;\n",
              "    }\n",
              "\n",
              "    .dataframe tbody tr th {\n",
              "        vertical-align: top;\n",
              "    }\n",
              "\n",
              "    .dataframe thead th {\n",
              "        text-align: right;\n",
              "    }\n",
              "</style>\n",
              "<table border=\"1\" class=\"dataframe\">\n",
              "  <thead>\n",
              "    <tr style=\"text-align: right;\">\n",
              "      <th></th>\n",
              "      <th>gender</th>\n",
              "      <th>race/ethnicity</th>\n",
              "      <th>parental level of education</th>\n",
              "      <th>lunch</th>\n",
              "      <th>test preparation course</th>\n",
              "      <th>math score</th>\n",
              "      <th>reading score</th>\n",
              "      <th>writing score</th>\n",
              "      <th>mean_test_scores</th>\n",
              "      <th>genderInt</th>\n",
              "      <th>lunchInt</th>\n",
              "      <th>prepInt</th>\n",
              "      <th>educationInt</th>\n",
              "      <th>raceInt</th>\n",
              "    </tr>\n",
              "  </thead>\n",
              "  <tbody>\n",
              "    <tr>\n",
              "      <th>0</th>\n",
              "      <td>female</td>\n",
              "      <td>group B</td>\n",
              "      <td>bachelor's degree</td>\n",
              "      <td>standard</td>\n",
              "      <td>none</td>\n",
              "      <td>72</td>\n",
              "      <td>72</td>\n",
              "      <td>74</td>\n",
              "      <td>72.666667</td>\n",
              "      <td>0</td>\n",
              "      <td>1</td>\n",
              "      <td>0</td>\n",
              "      <td>4</td>\n",
              "      <td>1</td>\n",
              "    </tr>\n",
              "    <tr>\n",
              "      <th>1</th>\n",
              "      <td>female</td>\n",
              "      <td>group C</td>\n",
              "      <td>some college</td>\n",
              "      <td>standard</td>\n",
              "      <td>completed</td>\n",
              "      <td>69</td>\n",
              "      <td>90</td>\n",
              "      <td>88</td>\n",
              "      <td>82.333333</td>\n",
              "      <td>0</td>\n",
              "      <td>1</td>\n",
              "      <td>1</td>\n",
              "      <td>2</td>\n",
              "      <td>2</td>\n",
              "    </tr>\n",
              "    <tr>\n",
              "      <th>2</th>\n",
              "      <td>female</td>\n",
              "      <td>group B</td>\n",
              "      <td>master's degree</td>\n",
              "      <td>standard</td>\n",
              "      <td>none</td>\n",
              "      <td>90</td>\n",
              "      <td>95</td>\n",
              "      <td>93</td>\n",
              "      <td>92.666667</td>\n",
              "      <td>0</td>\n",
              "      <td>1</td>\n",
              "      <td>0</td>\n",
              "      <td>5</td>\n",
              "      <td>1</td>\n",
              "    </tr>\n",
              "    <tr>\n",
              "      <th>3</th>\n",
              "      <td>male</td>\n",
              "      <td>group A</td>\n",
              "      <td>associate's degree</td>\n",
              "      <td>free/reduced</td>\n",
              "      <td>none</td>\n",
              "      <td>47</td>\n",
              "      <td>57</td>\n",
              "      <td>44</td>\n",
              "      <td>49.333333</td>\n",
              "      <td>1</td>\n",
              "      <td>0</td>\n",
              "      <td>0</td>\n",
              "      <td>3</td>\n",
              "      <td>0</td>\n",
              "    </tr>\n",
              "    <tr>\n",
              "      <th>4</th>\n",
              "      <td>male</td>\n",
              "      <td>group C</td>\n",
              "      <td>some college</td>\n",
              "      <td>standard</td>\n",
              "      <td>none</td>\n",
              "      <td>76</td>\n",
              "      <td>78</td>\n",
              "      <td>75</td>\n",
              "      <td>76.333333</td>\n",
              "      <td>1</td>\n",
              "      <td>1</td>\n",
              "      <td>0</td>\n",
              "      <td>2</td>\n",
              "      <td>2</td>\n",
              "    </tr>\n",
              "    <tr>\n",
              "      <th>5</th>\n",
              "      <td>female</td>\n",
              "      <td>group B</td>\n",
              "      <td>associate's degree</td>\n",
              "      <td>standard</td>\n",
              "      <td>none</td>\n",
              "      <td>71</td>\n",
              "      <td>83</td>\n",
              "      <td>78</td>\n",
              "      <td>77.333333</td>\n",
              "      <td>0</td>\n",
              "      <td>1</td>\n",
              "      <td>0</td>\n",
              "      <td>3</td>\n",
              "      <td>1</td>\n",
              "    </tr>\n",
              "    <tr>\n",
              "      <th>6</th>\n",
              "      <td>female</td>\n",
              "      <td>group B</td>\n",
              "      <td>some college</td>\n",
              "      <td>standard</td>\n",
              "      <td>completed</td>\n",
              "      <td>88</td>\n",
              "      <td>95</td>\n",
              "      <td>92</td>\n",
              "      <td>91.666667</td>\n",
              "      <td>0</td>\n",
              "      <td>1</td>\n",
              "      <td>1</td>\n",
              "      <td>2</td>\n",
              "      <td>1</td>\n",
              "    </tr>\n",
              "    <tr>\n",
              "      <th>7</th>\n",
              "      <td>male</td>\n",
              "      <td>group B</td>\n",
              "      <td>some college</td>\n",
              "      <td>free/reduced</td>\n",
              "      <td>none</td>\n",
              "      <td>40</td>\n",
              "      <td>43</td>\n",
              "      <td>39</td>\n",
              "      <td>40.666667</td>\n",
              "      <td>1</td>\n",
              "      <td>0</td>\n",
              "      <td>0</td>\n",
              "      <td>2</td>\n",
              "      <td>1</td>\n",
              "    </tr>\n",
              "    <tr>\n",
              "      <th>8</th>\n",
              "      <td>male</td>\n",
              "      <td>group D</td>\n",
              "      <td>high school</td>\n",
              "      <td>free/reduced</td>\n",
              "      <td>completed</td>\n",
              "      <td>64</td>\n",
              "      <td>64</td>\n",
              "      <td>67</td>\n",
              "      <td>65.000000</td>\n",
              "      <td>1</td>\n",
              "      <td>0</td>\n",
              "      <td>1</td>\n",
              "      <td>1</td>\n",
              "      <td>3</td>\n",
              "    </tr>\n",
              "    <tr>\n",
              "      <th>9</th>\n",
              "      <td>female</td>\n",
              "      <td>group B</td>\n",
              "      <td>high school</td>\n",
              "      <td>free/reduced</td>\n",
              "      <td>none</td>\n",
              "      <td>38</td>\n",
              "      <td>60</td>\n",
              "      <td>50</td>\n",
              "      <td>49.333333</td>\n",
              "      <td>0</td>\n",
              "      <td>0</td>\n",
              "      <td>0</td>\n",
              "      <td>1</td>\n",
              "      <td>1</td>\n",
              "    </tr>\n",
              "  </tbody>\n",
              "</table>\n",
              "</div>"
            ],
            "text/plain": [
              "   gender race/ethnicity  ... educationInt raceInt\n",
              "0  female        group B  ...            4       1\n",
              "1  female        group C  ...            2       2\n",
              "2  female        group B  ...            5       1\n",
              "3    male        group A  ...            3       0\n",
              "4    male        group C  ...            2       2\n",
              "5  female        group B  ...            3       1\n",
              "6  female        group B  ...            2       1\n",
              "7    male        group B  ...            2       1\n",
              "8    male        group D  ...            1       3\n",
              "9  female        group B  ...            1       1\n",
              "\n",
              "[10 rows x 14 columns]"
            ]
          },
          "metadata": {
            "tags": []
          },
          "execution_count": 7
        }
      ]
    },
    {
      "cell_type": "markdown",
      "metadata": {
        "id": "vVCrLY6NmNDu"
      },
      "source": [
        "# Plot the numerical data \n",
        "\n",
        "Plot each of the test scores to get an idea of the type of distribution we're dealing with"
      ]
    },
    {
      "cell_type": "code",
      "metadata": {
        "colab": {
          "base_uri": "https://localhost:8080/",
          "height": 499
        },
        "id": "rxtCqYfimV49",
        "outputId": "3882b3a9-71f0-4a32-d801-eefeb70a429c"
      },
      "source": [
        "numerical_data = student_performance.drop(['gender', 'race/ethnicity', 'parental level of education', 'lunch', 'test preparation course'], axis=1)\n",
        "numerical_data.hist(bins=30, figsize=(12, 8))\n",
        "plt.show()\n"
      ],
      "execution_count": 8,
      "outputs": [
        {
          "output_type": "display_data",
          "data": {
            "image/png": "[encoded data removed]",
            "text/plain": [
              "<Figure size 864x576 with 9 Axes>"
            ]
          },
          "metadata": {
            "tags": [],
            "needs_background": "light"
          }
        }
      ]
    },
    {
      "cell_type": "markdown",
      "metadata": {
        "id": "hV31lAgmgV4Z"
      },
      "source": [
        "**Takeaways**\n",
        "\n",
        "- It looks like the test scores have a normal distribution with a slight left skew\n",
        "- All the test results seem to have a spike between 50 and 60\n",
        "- It looks like around twice as many students are on the standard lunch plan than the free/reduced plan\n",
        "- It looks like around twice as many students didn't take the test preparation course than the ones that completed it"
      ]
    },
    {
      "cell_type": "markdown",
      "metadata": {
        "id": "6CDkYRmH8YxH"
      },
      "source": [
        "# Correlation Matrix\n",
        "\n",
        "Let's take a look at the relationship between the data to see if anything sticks out as highly correlated"
      ]
    },
    {
      "cell_type": "code",
      "metadata": {
        "colab": {
          "base_uri": "https://localhost:8080/",
          "height": 578
        },
        "id": "evwKs8hlpr8w",
        "outputId": "b8f247ec-f6c0-4a13-e5bf-0277cbdb2384"
      },
      "source": [
        "corr_matrix = student_performance.corr()\n",
        "plt.figure(figsize=(12, 8))\n",
        "plt.title(\"Student Performance Correlation Matrix\")\n",
        "sns.heatmap(corr_matrix, annot=True)\n",
        "plt.show()"
      ],
      "execution_count": 24,
      "outputs": [
        {
          "output_type": "display_data",
          "data": {
            "image/png": "[encoded data removed]",
            "text/plain": [
              "<Figure size 864x576 with 2 Axes>"
            ]
          },
          "metadata": {
            "tags": [],
            "needs_background": "light"
          }
        }
      ]
    },
    {
      "cell_type": "markdown",
      "metadata": {
        "id": "W_Sj8lwc8VAf"
      },
      "source": [
        "**Takeaways**\n",
        "\n",
        "- As you'd expect, there's a high correlation between the 3 test results. This is makes sense, as if you do well on one test, you're likely to do well on the others.\n",
        "- There doesn't seem to be strong correlation between any of the categorical data and the test results.\n",
        "- That being said, it seems like female students tend to do better on the reading and writing, while male students perform better on the math section\n",
        "- While still relatively low, it seems like the highest correlation among the categorical data is from the lunch plan. Students that are on the standard lunch plan tend to have higher test scores.\n",
        "- Completion of the test prep course also seems to have a low-medium degree of correaltion, as does education level of the parents.\n",
        "- We can't glean anything from the race/ethnicity data since it's not a true/false value and it's not ordinal"
      ]
    },
    {
      "cell_type": "markdown",
      "metadata": {
        "id": "JpBRc3_o6rE4"
      },
      "source": [
        "# Drop Race/Ethnicity Column\n",
        "\n",
        "This column is not true/false or ordinal so we can't do anything meaningful with it in a regression"
      ]
    },
    {
      "cell_type": "code",
      "metadata": {
        "colab": {
          "base_uri": "https://localhost:8080/",
          "height": 195
        },
        "id": "ykgnz6eD63KO",
        "outputId": "b6dd4129-4cfc-44b4-efd2-2ba51c05b614"
      },
      "source": [
        "student_performance.drop(['race/ethnicity', 'raceInt'], axis=1, inplace=True)\n",
        "student_performance.head()"
      ],
      "execution_count": 10,
      "outputs": [
        {
          "output_type": "execute_result",
          "data": {
            "text/html": [
              "<div>\n",
              "<style scoped>\n",
              "    .dataframe tbody tr th:only-of-type {\n",
              "        vertical-align: middle;\n",
              "    }\n",
              "\n",
              "    .dataframe tbody tr th {\n",
              "        vertical-align: top;\n",
              "    }\n",
              "\n",
              "    .dataframe thead th {\n",
              "        text-align: right;\n",
              "    }\n",
              "</style>\n",
              "<table border=\"1\" class=\"dataframe\">\n",
              "  <thead>\n",
              "    <tr style=\"text-align: right;\">\n",
              "      <th></th>\n",
              "      <th>gender</th>\n",
              "      <th>parental level of education</th>\n",
              "      <th>lunch</th>\n",
              "      <th>test preparation course</th>\n",
              "      <th>math score</th>\n",
              "      <th>reading score</th>\n",
              "      <th>writing score</th>\n",
              "      <th>mean_test_scores</th>\n",
              "      <th>genderInt</th>\n",
              "      <th>lunchInt</th>\n",
              "      <th>prepInt</th>\n",
              "      <th>educationInt</th>\n",
              "    </tr>\n",
              "  </thead>\n",
              "  <tbody>\n",
              "    <tr>\n",
              "      <th>0</th>\n",
              "      <td>female</td>\n",
              "      <td>bachelor's degree</td>\n",
              "      <td>standard</td>\n",
              "      <td>none</td>\n",
              "      <td>72</td>\n",
              "      <td>72</td>\n",
              "      <td>74</td>\n",
              "      <td>72.666667</td>\n",
              "      <td>0</td>\n",
              "      <td>1</td>\n",
              "      <td>0</td>\n",
              "      <td>4</td>\n",
              "    </tr>\n",
              "    <tr>\n",
              "      <th>1</th>\n",
              "      <td>female</td>\n",
              "      <td>some college</td>\n",
              "      <td>standard</td>\n",
              "      <td>completed</td>\n",
              "      <td>69</td>\n",
              "      <td>90</td>\n",
              "      <td>88</td>\n",
              "      <td>82.333333</td>\n",
              "      <td>0</td>\n",
              "      <td>1</td>\n",
              "      <td>1</td>\n",
              "      <td>2</td>\n",
              "    </tr>\n",
              "    <tr>\n",
              "      <th>2</th>\n",
              "      <td>female</td>\n",
              "      <td>master's degree</td>\n",
              "      <td>standard</td>\n",
              "      <td>none</td>\n",
              "      <td>90</td>\n",
              "      <td>95</td>\n",
              "      <td>93</td>\n",
              "      <td>92.666667</td>\n",
              "      <td>0</td>\n",
              "      <td>1</td>\n",
              "      <td>0</td>\n",
              "      <td>5</td>\n",
              "    </tr>\n",
              "    <tr>\n",
              "      <th>3</th>\n",
              "      <td>male</td>\n",
              "      <td>associate's degree</td>\n",
              "      <td>free/reduced</td>\n",
              "      <td>none</td>\n",
              "      <td>47</td>\n",
              "      <td>57</td>\n",
              "      <td>44</td>\n",
              "      <td>49.333333</td>\n",
              "      <td>1</td>\n",
              "      <td>0</td>\n",
              "      <td>0</td>\n",
              "      <td>3</td>\n",
              "    </tr>\n",
              "    <tr>\n",
              "      <th>4</th>\n",
              "      <td>male</td>\n",
              "      <td>some college</td>\n",
              "      <td>standard</td>\n",
              "      <td>none</td>\n",
              "      <td>76</td>\n",
              "      <td>78</td>\n",
              "      <td>75</td>\n",
              "      <td>76.333333</td>\n",
              "      <td>1</td>\n",
              "      <td>1</td>\n",
              "      <td>0</td>\n",
              "      <td>2</td>\n",
              "    </tr>\n",
              "  </tbody>\n",
              "</table>\n",
              "</div>"
            ],
            "text/plain": [
              "   gender parental level of education  ... prepInt educationInt\n",
              "0  female           bachelor's degree  ...       0            4\n",
              "1  female                some college  ...       1            2\n",
              "2  female             master's degree  ...       0            5\n",
              "3    male          associate's degree  ...       0            3\n",
              "4    male                some college  ...       0            2\n",
              "\n",
              "[5 rows x 12 columns]"
            ]
          },
          "metadata": {
            "tags": []
          },
          "execution_count": 10
        }
      ]
    },
    {
      "cell_type": "markdown",
      "metadata": {
        "id": "nbejrtLqQSLt"
      },
      "source": [
        "# Scaling\n",
        "\n",
        "Scale the data to make it even with each other"
      ]
    },
    {
      "cell_type": "code",
      "metadata": {
        "colab": {
          "base_uri": "https://localhost:8080/",
          "height": 195
        },
        "id": "CcLoEDG-Qh0C",
        "outputId": "524deba3-7dc5-446a-8ee7-207c41c0c4dd"
      },
      "source": [
        "from sklearn import preprocessing\n",
        "\n",
        "min_max_scaler = preprocessing.MinMaxScaler()\n",
        "\n",
        "student_performance_numeric = student_performance.copy()\n",
        "student_performance_numeric.drop(['gender', 'parental level of education', 'lunch', 'test preparation course'], axis=1, inplace=True)\n",
        "\n",
        "x_scaled = min_max_scaler.fit_transform(student_performance_numeric)\n",
        "\n",
        "student_performance_scaled = pd.DataFrame(x_scaled)\n",
        "student_performance_scaled.columns = ['math score', 'reading score', 'writing score', 'mean_test_scores', 'genderInt', 'lunchInt', 'prepInt', 'educationInt']\n",
        "\n",
        "student_performance_scaled.head()"
      ],
      "execution_count": 11,
      "outputs": [
        {
          "output_type": "execute_result",
          "data": {
            "text/html": [
              "<div>\n",
              "<style scoped>\n",
              "    .dataframe tbody tr th:only-of-type {\n",
              "        vertical-align: middle;\n",
              "    }\n",
              "\n",
              "    .dataframe tbody tr th {\n",
              "        vertical-align: top;\n",
              "    }\n",
              "\n",
              "    .dataframe thead th {\n",
              "        text-align: right;\n",
              "    }\n",
              "</style>\n",
              "<table border=\"1\" class=\"dataframe\">\n",
              "  <thead>\n",
              "    <tr style=\"text-align: right;\">\n",
              "      <th></th>\n",
              "      <th>math score</th>\n",
              "      <th>reading score</th>\n",
              "      <th>writing score</th>\n",
              "      <th>mean_test_scores</th>\n",
              "      <th>genderInt</th>\n",
              "      <th>lunchInt</th>\n",
              "      <th>prepInt</th>\n",
              "      <th>educationInt</th>\n",
              "    </tr>\n",
              "  </thead>\n",
              "  <tbody>\n",
              "    <tr>\n",
              "      <th>0</th>\n",
              "      <td>0.72</td>\n",
              "      <td>0.662651</td>\n",
              "      <td>0.711111</td>\n",
              "      <td>0.699634</td>\n",
              "      <td>0.0</td>\n",
              "      <td>1.0</td>\n",
              "      <td>0.0</td>\n",
              "      <td>0.8</td>\n",
              "    </tr>\n",
              "    <tr>\n",
              "      <th>1</th>\n",
              "      <td>0.69</td>\n",
              "      <td>0.879518</td>\n",
              "      <td>0.866667</td>\n",
              "      <td>0.805861</td>\n",
              "      <td>0.0</td>\n",
              "      <td>1.0</td>\n",
              "      <td>1.0</td>\n",
              "      <td>0.4</td>\n",
              "    </tr>\n",
              "    <tr>\n",
              "      <th>2</th>\n",
              "      <td>0.90</td>\n",
              "      <td>0.939759</td>\n",
              "      <td>0.922222</td>\n",
              "      <td>0.919414</td>\n",
              "      <td>0.0</td>\n",
              "      <td>1.0</td>\n",
              "      <td>0.0</td>\n",
              "      <td>1.0</td>\n",
              "    </tr>\n",
              "    <tr>\n",
              "      <th>3</th>\n",
              "      <td>0.47</td>\n",
              "      <td>0.481928</td>\n",
              "      <td>0.377778</td>\n",
              "      <td>0.443223</td>\n",
              "      <td>1.0</td>\n",
              "      <td>0.0</td>\n",
              "      <td>0.0</td>\n",
              "      <td>0.6</td>\n",
              "    </tr>\n",
              "    <tr>\n",
              "      <th>4</th>\n",
              "      <td>0.76</td>\n",
              "      <td>0.734940</td>\n",
              "      <td>0.722222</td>\n",
              "      <td>0.739927</td>\n",
              "      <td>1.0</td>\n",
              "      <td>1.0</td>\n",
              "      <td>0.0</td>\n",
              "      <td>0.4</td>\n",
              "    </tr>\n",
              "  </tbody>\n",
              "</table>\n",
              "</div>"
            ],
            "text/plain": [
              "   math score  reading score  writing score  ...  lunchInt  prepInt  educationInt\n",
              "0        0.72       0.662651       0.711111  ...       1.0      0.0           0.8\n",
              "1        0.69       0.879518       0.866667  ...       1.0      1.0           0.4\n",
              "2        0.90       0.939759       0.922222  ...       1.0      0.0           1.0\n",
              "3        0.47       0.481928       0.377778  ...       0.0      0.0           0.6\n",
              "4        0.76       0.734940       0.722222  ...       1.0      0.0           0.4\n",
              "\n",
              "[5 rows x 8 columns]"
            ]
          },
          "metadata": {
            "tags": []
          },
          "execution_count": 11
        }
      ]
    },
    {
      "cell_type": "markdown",
      "metadata": {
        "id": "KtAViZALSH2g"
      },
      "source": [
        "# Create Linear Models\n",
        "\n",
        "Now, we make a linear regression model using scikitlearn based on the relevant categorical data (gender, lunch, prep, and education)"
      ]
    },
    {
      "cell_type": "code",
      "metadata": {
        "colab": {
          "base_uri": "https://localhost:8080/"
        },
        "id": "ArCZMaRASJnt",
        "outputId": "553bedd4-ea9b-4a8b-e309-0b2d2853a56d"
      },
      "source": [
        "from sklearn.linear_model import LinearRegression\n",
        "\n",
        "# model to test the mean test score\n",
        "mean = student_performance_scaled['mean_test_scores'].copy()\n",
        "x = student_performance_scaled.drop(['math score', 'writing score', 'reading score', 'mean_test_scores'], axis=1)\n",
        "\n",
        "mean_lin_reg = LinearRegression().fit(x, mean)\n",
        "mean_r_sq = mean_lin_reg.score(x, mean)\n",
        "\n",
        "print(\"Mean model r^2: \" + str(mean_r_sq))\n"
      ],
      "execution_count": 12,
      "outputs": [
        {
          "output_type": "stream",
          "text": [
            "Mean model r^2: 0.21544904862664838\n"
          ],
          "name": "stdout"
        }
      ]
    },
    {
      "cell_type": "code",
      "metadata": {
        "colab": {
          "base_uri": "https://localhost:8080/"
        },
        "id": "ftvHw2Q9aVTL",
        "outputId": "682ff4be-ffd3-4659-c4d1-2dd99ff2fef9"
      },
      "source": [
        "# model to test just the math scores\n",
        "math = student_performance_scaled['math score'].copy()\n",
        "\n",
        "math_lin_reg = LinearRegression().fit(x, math)\n",
        "math_r_sq = math_lin_reg.score(x, math)\n",
        "\n",
        "print(\"Math model r^2: \" + str(math_r_sq))\n"
      ],
      "execution_count": 13,
      "outputs": [
        {
          "output_type": "stream",
          "text": [
            "Math model r^2: 0.21327111071982918\n"
          ],
          "name": "stdout"
        }
      ]
    },
    {
      "cell_type": "code",
      "metadata": {
        "colab": {
          "base_uri": "https://localhost:8080/"
        },
        "id": "0Jjtj7RuamV2",
        "outputId": "6f97a572-8dcb-4981-ef28-d45c67e19caa"
      },
      "source": [
        "# model to test just the reading scores\n",
        "reading = student_performance_scaled['reading score'].copy()\n",
        "\n",
        "reading_lin_reg = LinearRegression().fit(x, reading)\n",
        "reading_r_sq = reading_lin_reg.score(x, reading)\n",
        "\n",
        "print(\"Reading model r^2: \" + str(reading_r_sq))\n"
      ],
      "execution_count": 14,
      "outputs": [
        {
          "output_type": "stream",
          "text": [
            "Reading model r^2: 0.21114348625518597\n"
          ],
          "name": "stdout"
        }
      ]
    },
    {
      "cell_type": "code",
      "metadata": {
        "colab": {
          "base_uri": "https://localhost:8080/"
        },
        "id": "FV5uEWdcay8Q",
        "outputId": "34b24a3d-b201-4d9a-bd55-a57def11b0f9"
      },
      "source": [
        "# model to test just the writing scores\n",
        "writing = student_performance_scaled['writing score'].copy()\n",
        "\n",
        "writing_lin_reg = LinearRegression().fit(x, writing)\n",
        "writing_r_sq = writing_lin_reg.score(x, writing)\n",
        "\n",
        "print(\"Writing model r^2: \" + str(writing_r_sq))"
      ],
      "execution_count": 15,
      "outputs": [
        {
          "output_type": "stream",
          "text": [
            "Writing model r^2: 0.3099225317138439\n"
          ],
          "name": "stdout"
        }
      ]
    },
    {
      "cell_type": "markdown",
      "metadata": {
        "id": "_DKQCrY7bSqN"
      },
      "source": [
        "# Create OLS Models\n",
        "\n",
        "The Linear Regression output subpar r^2 values, so we're going to try using an OLS model to see if we can get a better model."
      ]
    },
    {
      "cell_type": "code",
      "metadata": {
        "colab": {
          "base_uri": "https://localhost:8080/"
        },
        "id": "KuwB5K8mKoze",
        "outputId": "049d77e8-9a78-4db9-ca89-de3cb30b6883"
      },
      "source": [
        "# OLS model to test the mean scores\n",
        "import statsmodels.api as sm\n",
        "\n",
        "model = sm.OLS(mean, x)\n",
        "results = model.fit()\n",
        "print(results.summary())"
      ],
      "execution_count": 27,
      "outputs": [
        {
          "output_type": "stream",
          "text": [
            "                                 OLS Regression Results                                \n",
            "=======================================================================================\n",
            "Dep. Variable:       mean_test_scores   R-squared (uncentered):                   0.861\n",
            "Model:                            OLS   Adj. R-squared (uncentered):              0.861\n",
            "Method:                 Least Squares   F-statistic:                              1547.\n",
            "Date:                Thu, 25 Mar 2021   Prob (F-statistic):                        0.00\n",
            "Time:                        20:21:11   Log-Likelihood:                         -22.332\n",
            "No. Observations:                1000   AIC:                                      52.66\n",
            "Df Residuals:                     996   BIC:                                      72.30\n",
            "Df Model:                           4                                                  \n",
            "Covariance Type:            nonrobust                                                  \n",
            "================================================================================\n",
            "                   coef    std err          t      P>|t|      [0.025      0.975]\n",
            "--------------------------------------------------------------------------------\n",
            "genderInt        0.1192      0.014      8.234      0.000       0.091       0.148\n",
            "lunchInt         0.3291      0.014     23.797      0.000       0.302       0.356\n",
            "prepInt          0.2158      0.016     13.842      0.000       0.185       0.246\n",
            "educationInt     0.5257      0.022     24.179      0.000       0.483       0.568\n",
            "==============================================================================\n",
            "Omnibus:                        6.503   Durbin-Watson:                   1.752\n",
            "Prob(Omnibus):                  0.039   Jarque-Bera (JB):                5.163\n",
            "Skew:                           0.075   Prob(JB):                       0.0757\n",
            "Kurtosis:                       2.682   Cond. No.                         3.19\n",
            "==============================================================================\n",
            "\n",
            "Warnings:\n",
            "[1] Standard Errors assume that the covariance matrix of the errors is correctly specified.\n"
          ],
          "name": "stdout"
        }
      ]
    },
    {
      "cell_type": "code",
      "metadata": {
        "colab": {
          "base_uri": "https://localhost:8080/"
        },
        "id": "wpVFxFTgZd3P",
        "outputId": "6e67a1e6-ce4f-489b-c9d4-c25cdf1f677c"
      },
      "source": [
        "# OLS model to test just the math scores\n",
        "import statsmodels.api as sm\n",
        "\n",
        "math_model = sm.OLS(math, x)\n",
        "math_results = math_model.fit()\n",
        "print(math_results.summary())"
      ],
      "execution_count": 17,
      "outputs": [
        {
          "output_type": "stream",
          "text": [
            "                                 OLS Regression Results                                \n",
            "=======================================================================================\n",
            "Dep. Variable:             math score   R-squared (uncentered):                   0.876\n",
            "Model:                            OLS   Adj. R-squared (uncentered):              0.875\n",
            "Method:                 Least Squares   F-statistic:                              1757.\n",
            "Date:                Thu, 25 Mar 2021   Prob (F-statistic):                        0.00\n",
            "Time:                        20:10:37   Log-Likelihood:                          12.794\n",
            "No. Observations:                1000   AIC:                                     -17.59\n",
            "Df Residuals:                     996   BIC:                                      2.043\n",
            "Df Model:                           4                                                  \n",
            "Covariance Type:            nonrobust                                                  \n",
            "================================================================================\n",
            "                   coef    std err          t      P>|t|      [0.025      0.975]\n",
            "--------------------------------------------------------------------------------\n",
            "genderInt        0.2047      0.014     14.651      0.000       0.177       0.232\n",
            "lunchInt         0.3341      0.013     25.027      0.000       0.308       0.360\n",
            "prepInt          0.1830      0.015     12.157      0.000       0.153       0.213\n",
            "educationInt     0.4901      0.021     23.350      0.000       0.449       0.531\n",
            "==============================================================================\n",
            "Omnibus:                       11.195   Durbin-Watson:                   1.769\n",
            "Prob(Omnibus):                  0.004   Jarque-Bera (JB):                7.731\n",
            "Skew:                           0.074   Prob(JB):                       0.0209\n",
            "Kurtosis:                       2.595   Cond. No.                         3.19\n",
            "==============================================================================\n",
            "\n",
            "Warnings:\n",
            "[1] Standard Errors assume that the covariance matrix of the errors is correctly specified.\n"
          ],
          "name": "stdout"
        }
      ]
    },
    {
      "cell_type": "code",
      "metadata": {
        "colab": {
          "base_uri": "https://localhost:8080/"
        },
        "id": "fjZ0Rt6FZk-2",
        "outputId": "d048c43c-21d6-477b-fcc5-86d308661efa"
      },
      "source": [
        "# OLS model to test just the reading scores\n",
        "import statsmodels.api as sm\n",
        "\n",
        "reading_model = sm.OLS(reading, x)\n",
        "reading_results = reading_model.fit()\n",
        "print(reading_results.summary())"
      ],
      "execution_count": 18,
      "outputs": [
        {
          "output_type": "stream",
          "text": [
            "                                 OLS Regression Results                                \n",
            "=======================================================================================\n",
            "Dep. Variable:          reading score   R-squared (uncentered):                   0.841\n",
            "Model:                            OLS   Adj. R-squared (uncentered):              0.840\n",
            "Method:                 Least Squares   F-statistic:                              1318.\n",
            "Date:                Thu, 25 Mar 2021   Prob (F-statistic):                        0.00\n",
            "Time:                        20:10:37   Log-Likelihood:                         -72.624\n",
            "No. Observations:                1000   AIC:                                      153.2\n",
            "Df Residuals:                     996   BIC:                                      172.9\n",
            "Df Model:                           4                                                  \n",
            "Covariance Type:            nonrobust                                                  \n",
            "================================================================================\n",
            "                   coef    std err          t      P>|t|      [0.025      0.975]\n",
            "--------------------------------------------------------------------------------\n",
            "genderInt        0.0769      0.015      5.054      0.000       0.047       0.107\n",
            "lunchInt         0.3232      0.015     22.227      0.000       0.295       0.352\n",
            "prepInt          0.2228      0.016     13.589      0.000       0.191       0.255\n",
            "educationInt     0.5331      0.023     23.318      0.000       0.488       0.578\n",
            "==============================================================================\n",
            "Omnibus:                        3.130   Durbin-Watson:                   1.772\n",
            "Prob(Omnibus):                  0.209   Jarque-Bera (JB):                2.871\n",
            "Skew:                           0.068   Prob(JB):                        0.238\n",
            "Kurtosis:                       2.776   Cond. No.                         3.19\n",
            "==============================================================================\n",
            "\n",
            "Warnings:\n",
            "[1] Standard Errors assume that the covariance matrix of the errors is correctly specified.\n"
          ],
          "name": "stdout"
        }
      ]
    },
    {
      "cell_type": "code",
      "metadata": {
        "colab": {
          "base_uri": "https://localhost:8080/"
        },
        "id": "dTClAJjmZttE",
        "outputId": "bf3dacef-dae6-4760-8750-408795bb3bed"
      },
      "source": [
        "# OLS model to test just the writing scores\n",
        "import statsmodels.api as sm\n",
        "\n",
        "writing_model = sm.OLS(writing, x)\n",
        "writing_results = writing_model.fit()\n",
        "print(writing_results.summary())"
      ],
      "execution_count": 19,
      "outputs": [
        {
          "output_type": "stream",
          "text": [
            "                                 OLS Regression Results                                \n",
            "=======================================================================================\n",
            "Dep. Variable:          writing score   R-squared (uncentered):                   0.856\n",
            "Model:                            OLS   Adj. R-squared (uncentered):              0.856\n",
            "Method:                 Least Squares   F-statistic:                              1485.\n",
            "Date:                Thu, 25 Mar 2021   Prob (F-statistic):                        0.00\n",
            "Time:                        20:10:37   Log-Likelihood:                         -43.127\n",
            "No. Observations:                1000   AIC:                                      94.25\n",
            "Df Residuals:                     996   BIC:                                      113.9\n",
            "Df Model:                           4                                                  \n",
            "Covariance Type:            nonrobust                                                  \n",
            "================================================================================\n",
            "                   coef    std err          t      P>|t|      [0.025      0.975]\n",
            "--------------------------------------------------------------------------------\n",
            "genderInt        0.0631      0.015      4.269      0.000       0.034       0.092\n",
            "lunchInt         0.3289      0.014     23.291      0.000       0.301       0.357\n",
            "prepInt          0.2458      0.016     15.442      0.000       0.215       0.277\n",
            "educationInt     0.5583      0.022     25.151      0.000       0.515       0.602\n",
            "==============================================================================\n",
            "Omnibus:                        4.881   Durbin-Watson:                   1.728\n",
            "Prob(Omnibus):                  0.087   Jarque-Bera (JB):                4.063\n",
            "Skew:                           0.066   Prob(JB):                        0.131\n",
            "Kurtosis:                       2.717   Cond. No.                         3.19\n",
            "==============================================================================\n",
            "\n",
            "Warnings:\n",
            "[1] Standard Errors assume that the covariance matrix of the errors is correctly specified.\n"
          ],
          "name": "stdout"
        }
      ]
    },
    {
      "cell_type": "markdown",
      "metadata": {
        "id": "7Ape8NcZh3SD"
      },
      "source": [
        "# Predictions\n",
        "\n",
        "Now, we can take a new set of data containing the student's socioeconomic data and use our model to predict the his/her test results"
      ]
    },
    {
      "cell_type": "code",
      "metadata": {
        "colab": {
          "base_uri": "https://localhost:8080/"
        },
        "id": "SIqRugZriMk7",
        "outputId": "258a4ff0-266c-4853-bf7c-e40023286837"
      },
      "source": [
        "import random\n",
        "\n",
        "new_data = np.random.randint(2, size=(10, 3))\n",
        "rand_nums = [random.randint(0,5)/5 for i in range(10)]\n",
        "new_data = np.append(new_data, [[i] for i in rand_nums ], axis=1)\n",
        "print(\"New data:\")\n",
        "print(new_data)\n",
        "\n",
        "# mean score prediction\n",
        "new_mean = mean_lin_reg.predict(new_data)\n",
        "print(\"Predictions:\")\n",
        "print(new_mean)"
      ],
      "execution_count": 20,
      "outputs": [
        {
          "output_type": "stream",
          "text": [
            "New data:\n",
            "[[1.  1.  0.  0.4]\n",
            " [0.  0.  1.  0.6]\n",
            " [1.  0.  0.  0.2]\n",
            " [1.  0.  0.  0. ]\n",
            " [1.  1.  1.  1. ]\n",
            " [1.  1.  1.  0. ]\n",
            " [0.  0.  0.  0.6]\n",
            " [0.  0.  0.  0.6]\n",
            " [1.  0.  1.  0. ]\n",
            " [0.  1.  0.  0.2]]\n",
            "Predictions:\n",
            "[0.62717599 0.67763668 0.50585691 0.48343397 0.78072213 0.66860745\n",
            " 0.59135935 0.59135935 0.5697113  0.64540962]\n"
          ],
          "name": "stdout"
        }
      ]
    },
    {
      "cell_type": "code",
      "metadata": {
        "colab": {
          "base_uri": "https://localhost:8080/"
        },
        "id": "4kEFfiekjOxB",
        "outputId": "6cdcd540-8f0b-49c2-f1d8-4d62a2b9f04b"
      },
      "source": [
        "# math score prediction\n",
        "new_math = math_lin_reg.predict(new_data)\n",
        "print(new_math)"
      ],
      "execution_count": 21,
      "outputs": [
        {
          "output_type": "stream",
          "text": [
            "[0.7046913  0.61821042 0.57409095 0.55578194 0.81778494 0.72623993\n",
            " 0.56004379 0.56004379 0.61394858 0.63571713]\n"
          ],
          "name": "stdout"
        }
      ]
    },
    {
      "cell_type": "code",
      "metadata": {
        "colab": {
          "base_uri": "https://localhost:8080/"
        },
        "id": "31zROxQ8jZLd",
        "outputId": "b6b768c9-37ae-473a-aec1-f479b861fc5c"
      },
      "source": [
        "# reading score prediction\n",
        "new_reading = reading_lin_reg.predict(new_data)\n",
        "print(new_reading)"
      ],
      "execution_count": 22,
      "outputs": [
        {
          "output_type": "stream",
          "text": [
            "[0.58154845 0.69138161 0.46952714 0.44692002 0.74058893 0.62755335\n",
            " 0.60016248 0.60016248 0.53813916 0.64436243]\n"
          ],
          "name": "stdout"
        }
      ]
    },
    {
      "cell_type": "code",
      "metadata": {
        "colab": {
          "base_uri": "https://localhost:8080/"
        },
        "id": "WHJoENP1je_u",
        "outputId": "7492e30b-8776-42aa-8e35-4524e34d1d55"
      },
      "source": [
        "# writing score prediction\n",
        "new_writing = writing_lin_reg.predict(new_data)\n",
        "print(new_writing)"
      ],
      "execution_count": 23,
      "outputs": [
        {
          "output_type": "stream",
          "text": [
            "[0.58312659 0.73098998 0.46354542 0.4367213  0.77655295 0.64243236\n",
            " 0.61803598 0.61803598 0.54967531 0.65714479]\n"
          ],
          "name": "stdout"
        }
      ]
    }
  ]
}